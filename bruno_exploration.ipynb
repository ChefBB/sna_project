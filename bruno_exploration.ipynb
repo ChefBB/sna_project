{
 "cells": [
  {
   "cell_type": "code",
   "execution_count": 1,
   "id": "fd16e9e6",
   "metadata": {},
   "outputs": [],
   "source": [
    "import pandas as pd\n",
    "\n",
    "artists = pd.read_csv('dataset/artists.csv')\n",
    "curators = pd.read_csv('dataset/curators.csv')\n",
    "tracks = pd.read_csv('dataset/tracks.csv')\n",
    "playlists = pd.read_csv('dataset/playlists.csv')\n",
    "playlists_tracks = pd.read_csv('dataset/playlists_tracks.csv')\n",
    "tracks_artists = pd.read_csv('dataset/tracks_artists.csv')\n",
    "curators_playlists = pd.read_csv('dataset/curators_playlists.csv')"
   ]
  },
  {
   "cell_type": "code",
   "execution_count": 2,
   "id": "9d856491",
   "metadata": {},
   "outputs": [
    {
     "name": "stdout",
     "output_type": "stream",
     "text": [
      "#Nodes: 53873\n"
     ]
    }
   ],
   "source": [
    "print(f'#Nodes: {tracks.shape[0]}')"
   ]
  },
  {
   "cell_type": "code",
   "execution_count": 3,
   "id": "b5af364d",
   "metadata": {},
   "outputs": [
    {
     "name": "stdout",
     "output_type": "stream",
     "text": [
      "#Edges: 1908983\n",
      "Total weight: 2088043\n"
     ]
    }
   ],
   "source": [
    "# create graph of tracks (edges are playlists)\n",
    "graph_tracks = pd.merge(left=playlists_tracks, right=playlists_tracks,\n",
    "                        on='playlist_id', suffixes=('_1', '_2'))\n",
    "\n",
    "\n",
    "\n",
    "# eliminate self-edges and duplicates\n",
    "graph_tracks = graph_tracks[graph_tracks['track_id_1'] < graph_tracks['track_id_2']]\n",
    "\n",
    "# get unique edges\n",
    "edges = graph_tracks[['track_id_1', 'track_id_2']].drop_duplicates()\n",
    "print(f'#Edges: {edges.shape[0]}')\n",
    "\n",
    "print(f'Total weight: {graph_tracks.shape[0]}')"
   ]
  },
  {
   "cell_type": "code",
   "execution_count": 4,
   "id": "41b75097",
   "metadata": {},
   "outputs": [
    {
     "name": "stdout",
     "output_type": "stream",
     "text": [
      "Size of biggest connected component: 45460\n"
     ]
    }
   ],
   "source": [
    "import networkx as nx\n",
    "\n",
    "# Count co-occurrence of each track pair (i.e. weight)\n",
    "weighted_edges = graph_tracks.groupby(\n",
    "    ['track_id_1', 'track_id_2']).size().reset_index(name='weight')\n",
    "\n",
    "# Create a weighted graph\n",
    "G = nx.from_pandas_edgelist(weighted_edges, 'track_id_1', 'track_id_2', edge_attr='weight')\n",
    "\n",
    "# compute connected components\n",
    "components = list(nx.connected_components(G))\n",
    "print(f'Size of biggest connected component: {max(len(c) for c in components)}')"
   ]
  },
  {
   "cell_type": "code",
   "execution_count": null,
   "id": "8ce750ad",
   "metadata": {},
   "outputs": [],
   "source": []
  }
 ],
 "metadata": {
  "kernelspec": {
   "display_name": "Python 3",
   "language": "python",
   "name": "python3"
  },
  "language_info": {
   "codemirror_mode": {
    "name": "ipython",
    "version": 3
   },
   "file_extension": ".py",
   "mimetype": "text/x-python",
   "name": "python",
   "nbconvert_exporter": "python",
   "pygments_lexer": "ipython3",
   "version": "3.11.1"
  }
 },
 "nbformat": 4,
 "nbformat_minor": 5
}
